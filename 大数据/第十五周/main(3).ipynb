{
 "cells": [
  {
   "cell_type": "code",
   "execution_count": 28,
   "metadata": {},
   "outputs": [],
   "source": [
    "#导入所需的库\n",
    "import pandas as pd\n",
    "import numpy as np\n",
    "from sklearn import preprocessing\n",
    "from sklearn.decomposition import PCA\n",
    "import matplotlib.pyplot as plt"
   ]
  },
  {
   "cell_type": "code",
   "execution_count": 29,
   "metadata": {},
   "outputs": [],
   "source": [
    "# 随机生成聚类中心点  \n",
    "#参数：dataSet-List列表，已分类点坐标\n",
    "#      k-整数，近邻数量\n",
    "#返回值：centroids-2维列表，k个随机中心点坐标\n",
    "def initCentroids(dataSet, k):  \n",
    "    numSamples, dim = dataSet.shape  \n",
    "    centroids = np.zeros((k, dim))  \n",
    "    for i in range(k):  \n",
    "        index = int(np.random.uniform(0, numSamples))  \n",
    "        centroids[i, :] = dataSet[index, :]  \n",
    "    return centroids"
   ]
  },
  {
   "cell_type": "code",
   "execution_count": 30,
   "metadata": {},
   "outputs": [],
   "source": [
    "# 2维平面显示聚类结果\n",
    "#参数：dataSet-List列表，样本集\n",
    "#      k-整数，近邻数量\n",
    "#      centroids-List列表，聚类中心点坐标\n",
    "#      clusterAssment-List列表，聚类结果\n",
    "#返回值：无\n",
    "def showCluster(dataSet, k, centroids, clusterAssment):  \n",
    "    fig_2d_clustered=plt.figure()\n",
    "    ax2d_clustered=fig_2d_clustered.add_subplot(111) \n",
    "\n",
    "    numSamples, dim = dataSet.shape  \n",
    "    if dim != 2:  \n",
    "        print(\"只能绘制2维图形\")  \n",
    "        return 1  \n",
    "#创建数据点标记格式控制列表，实现数据点区别输出\n",
    "    mark = ['.r', '+b', '*g', '1k', '^r', 'vr', 'sr', 'dr', '<r', 'pr']  \n",
    "    if k > len(mark):  \n",
    "        print(\"K值过大！\")  \n",
    "        return 1  \n",
    "#绘制所有样本点\n",
    "    for i in range(numSamples):  \n",
    "        markIndex = int(clusterAssment[i])  \n",
    "        ax2d_clustered.plot(dataSet[i, 0], dataSet[i, 1], mark[markIndex])  \n",
    "\n",
    "#绘制聚类中心点  \n",
    "    for i in range(k):\n",
    "        ax2d_clustered.plot(centroids[i, 0], centroids[i, 1], mark[i], markersize = 20)  \n",
    "\n",
    "    fig_2d_clustered.savefig('clusterRes.png', dpi=300, bbox_inches='tight')\n",
    "    fig_2d_clustered.show()"
   ]
  },
  {
   "cell_type": "code",
   "execution_count": 31,
   "metadata": {},
   "outputs": [],
   "source": [
    "# 计算欧式距离，即两点间的直线距离 \n",
    "#参数：vector1-List列表，n维属性坐标值构成的向量\n",
    "#      vector2-List列表，n维属性坐标值构成的向量\n",
    "#返回值：浮点数，欧式距离\n",
    "\n",
    "def euclDistance(vector1, vector2):  \n",
    "    return np.sqrt(np.sum(np.power(vector2 - vector1, 2))) "
   ]
  },
  {
   "cell_type": "code",
   "execution_count": 32,
   "metadata": {},
   "outputs": [],
   "source": [
    "# KNN分类算法函数实现\n",
    "#参数：newInput-List列表，待分类的数据点\n",
    "#      dataSet-List列表，已分类点坐标\n",
    "#      lables-List列表，分类标签\n",
    "#      k-整数，近邻数量\n",
    "#返回值：maxIndex-字符，分类结果\n",
    "def kNNClassify(newInputs, dataSet, labels, k):\n",
    "    numSamples = dataSet.shape[0]   # shape[0]表示行数\n",
    "    numInputs = newInputs.shape[0]\n",
    "    distance = np.zeros((numInputs, numSamples))\n",
    "#计算newInput与dataSet中个点的距离，放入distance列表内\n",
    "    for i,INput in enumerate(newInputs):\n",
    "        for j,vec in enumerate(dataSet):\n",
    "            distance[i,j] = euclDistance(INput,vec)       \n",
    "#对距离排序\n",
    "    sortedDistIndices = np.argsort(distance)\n",
    "    classCount = np.zeros((numInputs,3))\n",
    "#选择k个最近邻\n",
    "    for i in range(numInputs):\n",
    "        voteLabel = labels[sortedDistIndices[i,0:k]]\n",
    "        knear = np.array([np.sum(voteLabel == 0),np.sum(voteLabel == 1),np.sum(voteLabel == 2)])\n",
    "        classCount[i] = knear\n",
    "    return classCount.argmax(axis=1)"
   ]
  },
  {
   "cell_type": "code",
   "execution_count": 33,
   "metadata": {},
   "outputs": [
    {
     "name": "stdout",
     "output_type": "stream",
     "text": [
      "原始数据头5行：\n",
      "(200, 5)\n",
      "   ID      性别  年龄  年收入(万元)  消费评分(1-100)\n",
      "0   1    Male  19       15           39\n",
      "1   2    Male  21       15           81\n",
      "2   3  Female  20       16            6\n",
      "3   4  Female  23       16           77\n",
      "4   5  Female  31       17           40\n",
      "规格化转换后数据：\n",
      "       atr1      atr2      atr3\n",
      "0 -1.424569 -1.738999 -0.434801\n",
      "1 -1.281035 -1.738999  1.195704\n",
      "2 -1.352802 -1.700830 -1.715913\n",
      "3 -1.137502 -1.700830  1.040418\n",
      "4 -0.563369 -1.662660 -0.395980\n",
      "      pca_1     pca_2\n",
      "0 -0.615720 -1.763481\n",
      "1 -1.665793 -1.820747\n",
      "2  0.337862 -1.674799\n",
      "3 -1.456573 -1.772430\n",
      "4 -0.038465 -1.662740\n"
     ]
    }
   ],
   "source": [
    "X_origin = pd.read_csv('ch11_Mall_Customers.csv',encoding='gb2312')\n",
    "print('原始数据头5行：')\n",
    "print(X_origin.shape)\n",
    "print(X_origin.head())\n",
    "\n",
    "#数据规格化\n",
    "X = X_origin.drop(['ID','性别'],axis=1)\n",
    "X_scaled = preprocessing.scale(X)\n",
    "X_scaled_frame = pd.DataFrame(X_scaled,columns=['atr1','atr2','atr3'])\n",
    "print('规格化转换后数据：')\n",
    "print(X_scaled_frame.head())\n",
    "\n",
    "#压缩数据为2个主成分\n",
    "from sklearn.decomposition import PCA\n",
    "pca = PCA(n_components = 2)\n",
    "X_pca = pca.fit_transform(X_scaled)\n",
    "X_pca_frame = pd.DataFrame(X_pca,columns=['pca_1','pca_2'])\n",
    "print(X_pca_frame.head())"
   ]
  },
  {
   "cell_type": "code",
   "execution_count": 34,
   "metadata": {},
   "outputs": [],
   "source": [
    "#随机生成160个label为0和1,2\n",
    "#设置seed\n",
    "np.random.seed(126)\n",
    "y160_test = np.random.randint(0,3,160)\n",
    "y_validation = np.random.randint(0,3,40)"
   ]
  },
  {
   "cell_type": "code",
   "execution_count": 35,
   "metadata": {},
   "outputs": [
    {
     "name": "stdout",
     "output_type": "stream",
     "text": [
      "准确率为： 0.5\n"
     ]
    },
    {
     "data": {
      "text/html": [
       "<div>\n",
       "<style scoped>\n",
       "    .dataframe tbody tr th:only-of-type {\n",
       "        vertical-align: middle;\n",
       "    }\n",
       "\n",
       "    .dataframe tbody tr th {\n",
       "        vertical-align: top;\n",
       "    }\n",
       "\n",
       "    .dataframe thead th {\n",
       "        text-align: right;\n",
       "    }\n",
       "</style>\n",
       "<table border=\"1\" class=\"dataframe\">\n",
       "  <thead>\n",
       "    <tr style=\"text-align: right;\">\n",
       "      <th></th>\n",
       "      <th>y_validation</th>\n",
       "      <th>y_predict</th>\n",
       "      <th>result</th>\n",
       "    </tr>\n",
       "  </thead>\n",
       "  <tbody>\n",
       "    <tr>\n",
       "      <th>0</th>\n",
       "      <td>0</td>\n",
       "      <td>0</td>\n",
       "      <td>1</td>\n",
       "    </tr>\n",
       "    <tr>\n",
       "      <th>1</th>\n",
       "      <td>1</td>\n",
       "      <td>1</td>\n",
       "      <td>1</td>\n",
       "    </tr>\n",
       "    <tr>\n",
       "      <th>2</th>\n",
       "      <td>2</td>\n",
       "      <td>1</td>\n",
       "      <td>0</td>\n",
       "    </tr>\n",
       "    <tr>\n",
       "      <th>3</th>\n",
       "      <td>1</td>\n",
       "      <td>1</td>\n",
       "      <td>1</td>\n",
       "    </tr>\n",
       "    <tr>\n",
       "      <th>4</th>\n",
       "      <td>2</td>\n",
       "      <td>2</td>\n",
       "      <td>1</td>\n",
       "    </tr>\n",
       "  </tbody>\n",
       "</table>\n",
       "</div>"
      ],
      "text/plain": [
       "   y_validation  y_predict  result\n",
       "0             0          0       1\n",
       "1             1          1       1\n",
       "2             2          1       0\n",
       "3             1          1       1\n",
       "4             2          2       1"
      ]
     },
     "execution_count": 35,
     "metadata": {},
     "output_type": "execute_result"
    }
   ],
   "source": [
    "#设定k=3,使用Scikit-learn提供的k近邻方法\n",
    "from sklearn.neighbors import KNeighborsClassifier\n",
    "from sklearn.metrics import accuracy_score\n",
    "\n",
    "#选取X_pac前160数据\n",
    "X160_pac_test = X_pca_frame.iloc[0:160,:]\n",
    "X_pac_validation = X_pca_frame.iloc[160:,:]\n",
    "k = 3\n",
    "knn = KNeighborsClassifier(n_neighbors=k)\n",
    "knn.fit(X160_pac_test,y160_test)\n",
    "y_pac_predict = knn.predict(X_pac_validation)\n",
    "#计算准确率\n",
    "accuracy_pac = accuracy_score(y_validation,y_pac_predict)\n",
    "print('准确率为：',accuracy_pac)\n",
    "#y_validation和y_pac_predict在一个表格里columns为原始结果和预测结果\n",
    "y_validation_frame = pd.DataFrame(y_validation,columns=['y_validation'])\n",
    "y_predict_frame = pd.DataFrame(y_pac_predict,columns=['y_predict'])\n",
    "data1 = pd.concat([y_validation_frame,y_predict_frame],axis=1)\n",
    "#如果y_validation和y_pac_predict相等则为1，不等则为0\n",
    "data1['result'] = data1.apply(lambda x: 1 if x['y_validation'] == x['y_predict'] else 0,axis=1)\n",
    "data1.head()"
   ]
  },
  {
   "cell_type": "code",
   "execution_count": 36,
   "metadata": {},
   "outputs": [],
   "source": [
    "#绘图数据处理\n",
    "def datachange(X_validation,y_pac_predict):\n",
    "    #将X_validation和y_pac_predict转换为ndarray，合并为dataSet1\n",
    "    X_validation = np.array(X_validation)\n",
    "    y_pac_predict = np.array(y_pac_predict)\n",
    "    dataSet1 = np.column_stack((X_validation,y_pac_predict))\n",
    "    #将y_pac_predict转化为np.mat(np.zeros((size, 2)))数据类型\n",
    "    size = y_pac_predict.size\n",
    "    clusterAssment = np.zeros((size, 2))\n",
    "    clusterAssment[:,0] = y_pac_predict\n",
    "    clusterAssment = np.mat(clusterAssment)\n",
    "    #将X_validation转化为矩阵形式\n",
    "    X_validation = np.mat(X_validation)\n",
    "    return X_validation,clusterAssment,dataSet1"
   ]
  },
  {
   "cell_type": "code",
   "execution_count": 37,
   "metadata": {},
   "outputs": [
    {
     "data": {
      "image/png": "[encoded data removed]",
      "text/plain": [
       "<Figure size 640x480 with 1 Axes>"
      ]
     },
     "metadata": {},
     "output_type": "display_data"
    }
   ],
   "source": [
    "#绘制聚类结果图\n",
    "X_pac_validation,clusterAssment,dataSet1 = datachange(X_pac_validation,y_pac_predict)\n",
    "centroids = initCentroids(X_pac_validation, k)\n",
    "showCluster(X_pac_validation, k, centroids, y_pac_predict)"
   ]
  },
  {
   "cell_type": "code",
   "execution_count": 38,
   "metadata": {},
   "outputs": [
    {
     "name": "stdout",
     "output_type": "stream",
     "text": [
      "准确率为： 0.4\n"
     ]
    },
    {
     "data": {
      "text/html": [
       "<div>\n",
       "<style scoped>\n",
       "    .dataframe tbody tr th:only-of-type {\n",
       "        vertical-align: middle;\n",
       "    }\n",
       "\n",
       "    .dataframe tbody tr th {\n",
       "        vertical-align: top;\n",
       "    }\n",
       "\n",
       "    .dataframe thead th {\n",
       "        text-align: right;\n",
       "    }\n",
       "</style>\n",
       "<table border=\"1\" class=\"dataframe\">\n",
       "  <thead>\n",
       "    <tr style=\"text-align: right;\">\n",
       "      <th></th>\n",
       "      <th>y_validation</th>\n",
       "      <th>y_predict</th>\n",
       "      <th>result</th>\n",
       "    </tr>\n",
       "  </thead>\n",
       "  <tbody>\n",
       "    <tr>\n",
       "      <th>0</th>\n",
       "      <td>0</td>\n",
       "      <td>0</td>\n",
       "      <td>1</td>\n",
       "    </tr>\n",
       "    <tr>\n",
       "      <th>1</th>\n",
       "      <td>1</td>\n",
       "      <td>1</td>\n",
       "      <td>1</td>\n",
       "    </tr>\n",
       "    <tr>\n",
       "      <th>2</th>\n",
       "      <td>2</td>\n",
       "      <td>1</td>\n",
       "      <td>0</td>\n",
       "    </tr>\n",
       "    <tr>\n",
       "      <th>3</th>\n",
       "      <td>1</td>\n",
       "      <td>1</td>\n",
       "      <td>1</td>\n",
       "    </tr>\n",
       "    <tr>\n",
       "      <th>4</th>\n",
       "      <td>2</td>\n",
       "      <td>1</td>\n",
       "      <td>0</td>\n",
       "    </tr>\n",
       "  </tbody>\n",
       "</table>\n",
       "</div>"
      ],
      "text/plain": [
       "   y_validation  y_predict  result\n",
       "0             0          0       1\n",
       "1             1          1       1\n",
       "2             2          1       0\n",
       "3             1          1       1\n",
       "4             2          1       0"
      ]
     },
     "execution_count": 38,
     "metadata": {},
     "output_type": "execute_result"
    }
   ],
   "source": [
    "#不进行主成分降维的数据聚类\n",
    "X160_test = X.iloc[0:160,:]\n",
    "X_validation = X.iloc[160:,:]\n",
    "k = 3\n",
    "knn = KNeighborsClassifier(n_neighbors=k)\n",
    "knn.fit(X160_test,y160_test)\n",
    "y_predict = knn.predict(X_validation)\n",
    "#计算准确率\n",
    "accuracy = accuracy_score(y_validation,y_predict)\n",
    "print('准确率为：',accuracy)\n",
    "\n",
    "#y_validation和y_predict在一个表格里columns为原始结果和预测结果\n",
    "y_validation_frame = pd.DataFrame(y_validation,columns=['y_validation'])\n",
    "y_predict_frame = pd.DataFrame(y_predict,columns=['y_predict'])\n",
    "data2 = pd.concat([y_validation_frame,y_predict_frame],axis=1)\n",
    "#如果y_validation和y_predict相等则为1，不等则为0\n",
    "data2['result'] = data2.apply(lambda x: 1 if x['y_validation'] == x['y_predict'] else 0,axis=1)\n",
    "data2.head()"
   ]
  },
  {
   "cell_type": "code",
   "execution_count": 39,
   "metadata": {},
   "outputs": [
    {
     "name": "stdout",
     "output_type": "stream",
     "text": [
      "[0.525, 0.475, 0.5, 0.425, 0.475, 0.45, 0.45, 0.45, 0.45, 0.5, 0.475, 0.5, 0.475, 0.475, 0.45, 0.475, 0.475, 0.475, 0.45, 0.45, 0.45, 0.4, 0.45, 0.4, 0.425, 0.425, 0.475, 0.475, 0.475, 0.45]\n"
     ]
    },
    {
     "data": {
      "image/png": "[encoded data removed]",
      "text/plain": [
       "<Figure size 640x480 with 1 Axes>"
      ]
     },
     "metadata": {},
     "output_type": "display_data"
    },
    {
     "data": {
      "text/html": [
       "<div>\n",
       "<style scoped>\n",
       "    .dataframe tbody tr th:only-of-type {\n",
       "        vertical-align: middle;\n",
       "    }\n",
       "\n",
       "    .dataframe tbody tr th {\n",
       "        vertical-align: top;\n",
       "    }\n",
       "\n",
       "    .dataframe thead th {\n",
       "        text-align: right;\n",
       "    }\n",
       "</style>\n",
       "<table border=\"1\" class=\"dataframe\">\n",
       "  <thead>\n",
       "    <tr style=\"text-align: right;\">\n",
       "      <th></th>\n",
       "      <th>accuracy</th>\n",
       "      <th>k</th>\n",
       "    </tr>\n",
       "  </thead>\n",
       "  <tbody>\n",
       "    <tr>\n",
       "      <th>0</th>\n",
       "      <td>0.525</td>\n",
       "      <td>1</td>\n",
       "    </tr>\n",
       "    <tr>\n",
       "      <th>2</th>\n",
       "      <td>0.500</td>\n",
       "      <td>3</td>\n",
       "    </tr>\n",
       "    <tr>\n",
       "      <th>9</th>\n",
       "      <td>0.500</td>\n",
       "      <td>10</td>\n",
       "    </tr>\n",
       "    <tr>\n",
       "      <th>11</th>\n",
       "      <td>0.500</td>\n",
       "      <td>12</td>\n",
       "    </tr>\n",
       "    <tr>\n",
       "      <th>12</th>\n",
       "      <td>0.475</td>\n",
       "      <td>13</td>\n",
       "    </tr>\n",
       "  </tbody>\n",
       "</table>\n",
       "</div>"
      ],
      "text/plain": [
       "    accuracy   k\n",
       "0      0.525   1\n",
       "2      0.500   3\n",
       "9      0.500  10\n",
       "11     0.500  12\n",
       "12     0.475  13"
      ]
     },
     "execution_count": 39,
     "metadata": {},
     "output_type": "execute_result"
    }
   ],
   "source": [
    "#选取X_pac前160数据\n",
    "X160_pac_test = X_pca_frame.iloc[0:160,:]\n",
    "X_pac_validation = X_pca_frame.iloc[160:,:]\n",
    "#优化超参数k\n",
    "k_range1 = range(1, 31)\n",
    "k_scores1 = []\n",
    "for k in k_range1:\n",
    "    knn = KNeighborsClassifier(n_neighbors=k)\n",
    "    knn.fit(X160_pac_test,y160_test)\n",
    "    y_pac_predict = knn.predict(X_pac_validation)\n",
    "    accuracy_pac = accuracy_score(y_validation,y_pac_predict)\n",
    "    k_scores1.append(accuracy_pac)\n",
    "print(k_scores1)\n",
    "\n",
    "#绘制k值与准确率的关系图\n",
    "plt.plot(k_range1, k_scores1)\n",
    "plt.grid(True)\n",
    "plt.xlabel('K value')\n",
    "plt.ylabel('Accuracy')\n",
    "plt.title('have pac')\n",
    "plt.show()\n",
    "\n",
    "#按准确率排序，找到相应的k值，放到一张表内\n",
    "k_scores1 = pd.DataFrame(k_scores1,columns=['accuracy'])\n",
    "k_scores1['k'] = k_range1\n",
    "k_scores1 = k_scores1.sort_values(by='accuracy',ascending=False)\n",
    "k_scores1.head()"
   ]
  },
  {
   "cell_type": "code",
   "execution_count": 40,
   "metadata": {},
   "outputs": [
    {
     "name": "stdout",
     "output_type": "stream",
     "text": [
      "[0.5, 0.4, 0.4, 0.45, 0.45, 0.4, 0.45, 0.45, 0.475, 0.5, 0.525, 0.55, 0.525, 0.6, 0.55, 0.575, 0.6, 0.525, 0.525, 0.525, 0.525, 0.55, 0.55, 0.525, 0.55, 0.525, 0.525, 0.5, 0.525, 0.55]\n"
     ]
    },
    {
     "data": {
      "image/png": "[encoded data removed]",
      "text/plain": [
       "<Figure size 640x480 with 1 Axes>"
      ]
     },
     "metadata": {},
     "output_type": "display_data"
    },
    {
     "data": {
      "text/html": [
       "<div>\n",
       "<style scoped>\n",
       "    .dataframe tbody tr th:only-of-type {\n",
       "        vertical-align: middle;\n",
       "    }\n",
       "\n",
       "    .dataframe tbody tr th {\n",
       "        vertical-align: top;\n",
       "    }\n",
       "\n",
       "    .dataframe thead th {\n",
       "        text-align: right;\n",
       "    }\n",
       "</style>\n",
       "<table border=\"1\" class=\"dataframe\">\n",
       "  <thead>\n",
       "    <tr style=\"text-align: right;\">\n",
       "      <th></th>\n",
       "      <th>accuracy</th>\n",
       "      <th>k</th>\n",
       "    </tr>\n",
       "  </thead>\n",
       "  <tbody>\n",
       "    <tr>\n",
       "      <th>16</th>\n",
       "      <td>0.600</td>\n",
       "      <td>17</td>\n",
       "    </tr>\n",
       "    <tr>\n",
       "      <th>13</th>\n",
       "      <td>0.600</td>\n",
       "      <td>14</td>\n",
       "    </tr>\n",
       "    <tr>\n",
       "      <th>15</th>\n",
       "      <td>0.575</td>\n",
       "      <td>16</td>\n",
       "    </tr>\n",
       "    <tr>\n",
       "      <th>11</th>\n",
       "      <td>0.550</td>\n",
       "      <td>12</td>\n",
       "    </tr>\n",
       "    <tr>\n",
       "      <th>24</th>\n",
       "      <td>0.550</td>\n",
       "      <td>25</td>\n",
       "    </tr>\n",
       "  </tbody>\n",
       "</table>\n",
       "</div>"
      ],
      "text/plain": [
       "    accuracy   k\n",
       "16     0.600  17\n",
       "13     0.600  14\n",
       "15     0.575  16\n",
       "11     0.550  12\n",
       "24     0.550  25"
      ]
     },
     "execution_count": 40,
     "metadata": {},
     "output_type": "execute_result"
    }
   ],
   "source": [
    "#不进行主成分降维的数据聚类\n",
    "X160_test = X.iloc[0:160,:]\n",
    "X_validation = X.iloc[160:,:]\n",
    "#优化超参数k\n",
    "k_range2 = range(1, 31)\n",
    "k_scores2 = []\n",
    "for k in k_range2:\n",
    "    knn = KNeighborsClassifier(n_neighbors=k)\n",
    "    knn.fit(X160_test,y160_test)\n",
    "    y_predict = knn.predict(X_validation)\n",
    "    accuracy = accuracy_score(y_validation,y_predict)\n",
    "    k_scores2.append(accuracy)\n",
    "print(k_scores2)\n",
    "\n",
    "#绘制k值与准确率的关系图\n",
    "plt.plot(k_range2, k_scores2)\n",
    "plt.grid(True)\n",
    "plt.xlabel('K value')\n",
    "plt.ylabel('Accuracy')\n",
    "plt.title('no pac')\n",
    "plt.show()\n",
    "\n",
    "#按准确率排序，找到相应的k值，放到一张表内\n",
    "k_scores2 = pd.DataFrame(k_scores2,columns=['accuracy'])\n",
    "k_scores2['k'] = k_range2\n",
    "k_scores2 = k_scores2.sort_values(by='accuracy',ascending=False)\n",
    "k_scores2.head()"
   ]
  },
  {
   "cell_type": "code",
   "execution_count": 41,
   "metadata": {},
   "outputs": [
    {
     "data": {
      "text/plain": [
       "array([0, 1, 1, 1, 2, 0, 0, 1, 2, 0, 0, 1, 0, 1, 2, 1, 1, 1, 1, 1, 2, 1,\n",
       "       0, 1, 2, 1, 0, 1, 0, 1, 2, 1, 0, 1, 2, 1, 0, 1, 2, 1])"
      ]
     },
     "execution_count": 41,
     "metadata": {},
     "output_type": "execute_result"
    }
   ],
   "source": [
    "#教材方法have pac\n",
    "#将X160_pac_test转化为narray类型\n",
    "X160_pac_test = np.array(X160_pac_test)\n",
    "#将X_pac_validation转化为narray类型\n",
    "X_pac_validation = np.array(X_pac_validation)\n",
    "kNNClassify(X_pac_validation, X160_pac_test, y160_test, 3)"
   ]
  }
 ],
 "metadata": {
  "kernelspec": {
   "display_name": "Python 3",
   "language": "python",
   "name": "python3"
  },
  "language_info": {
   "codemirror_mode": {
    "name": "ipython",
    "version": 3
   },
   "file_extension": ".py",
   "mimetype": "text/x-python",
   "name": "python",
   "nbconvert_exporter": "python",
   "pygments_lexer": "ipython3",
   "version": "3.10.13"
  },
  "orig_nbformat": 4
 },
 "nbformat": 4,
 "nbformat_minor": 2
}
